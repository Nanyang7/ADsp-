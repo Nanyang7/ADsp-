{
  "nbformat": 4,
  "nbformat_minor": 0,
  "metadata": {
    "colab": {
      "provenance": [],
      "authorship_tag": "ABX9TyMuB2JSqgbz/vd2Hq+sbfS0",
      "include_colab_link": true
    },
    "kernelspec": {
      "name": "python3",
      "display_name": "Python 3"
    },
    "language_info": {
      "name": "python"
    }
  },
  "cells": [
    {
      "cell_type": "markdown",
      "metadata": {
        "id": "view-in-github",
        "colab_type": "text"
      },
      "source": [
        "<a href=\"https://colab.research.google.com/github/Nanyang7/ADsp-/blob/main/2_%ED%8C%8C%EC%9D%B4%EC%8D%AC%EC%9D%98_%EC%B6%9C%EB%A0%A5.ipynb\" target=\"_parent\"><img src=\"https://colab.research.google.com/assets/colab-badge.svg\" alt=\"Open In Colab\"/></a>"
      ]
    },
    {
      "cell_type": "markdown",
      "source": [
        "# **1. Print 함수**"
      ],
      "metadata": {
        "id": "du76uONY0wsM"
      }
    },
    {
      "cell_type": "markdown",
      "source": [
        "- 매개변수로 지정된 데이터를 출력하고 줄을 변경"
      ],
      "metadata": {
        "id": "20BRD2ih1itI"
      }
    },
    {
      "cell_type": "code",
      "source": [
        "print('hello world')\n",
        "print(10)\n",
        "print('10')\n",
        "print(\"나는 아름다운 존재이다\") # 문자열 출력은 따옴표를 사용함 \"\""
      ],
      "metadata": {
        "colab": {
          "base_uri": "https://localhost:8080/"
        },
        "id": "x4iGgTF52Bs5",
        "outputId": "e813de96-0647-45d2-a414-6ea45c37c6de"
      },
      "execution_count": 4,
      "outputs": [
        {
          "output_type": "stream",
          "name": "stdout",
          "text": [
            "hello world\n",
            "10\n",
            "10\n",
            "나는 아름다운 존재이다\n"
          ]
        }
      ]
    },
    {
      "cell_type": "code",
      "source": [
        "# 한 줄 주석문\n",
        "# 5를 출력하는 함수입니다.\n",
        "\n",
        "'''\n",
        "여기는 여러줄을 주석으로 처리합니다.\n",
        "따라서 프로그램에 영향을 주지 않는다.\n",
        "'''\n",
        "\n",
        "print(5)"
      ],
      "metadata": {
        "colab": {
          "base_uri": "https://localhost:8080/"
        },
        "id": "PmPz3cFD28Cq",
        "outputId": "00100be2-5389-43ac-89d1-49b70c3424c1"
      },
      "execution_count": 7,
      "outputs": [
        {
          "output_type": "stream",
          "name": "stdout",
          "text": [
            "5\n"
          ]
        }
      ]
    },
    {
      "cell_type": "code",
      "source": [
        "print('나는 너를', '사랑해')\n",
        "print('나는 너를', end='') #end : print 출력 후 어떻게 처리할지 여부에 대한 옵션\n",
        "print('사랑해')\n",
        "print('나는 너를', end=' ')\n",
        "print('사랑해')\n",
        "print('나는 너를', end=' 많이 ')\n",
        "print('사랑해')"
      ],
      "metadata": {
        "colab": {
          "base_uri": "https://localhost:8080/"
        },
        "id": "hhmf6g9L4J2c",
        "outputId": "d304bff9-871d-48f2-90b0-dba1c812c3c5"
      },
      "execution_count": 17,
      "outputs": [
        {
          "output_type": "stream",
          "name": "stdout",
          "text": [
            "나는 너를 사랑해\n",
            "나는 너를사랑해\n",
            "나는 너를 사랑해\n",
            "나는 너를 많이 사랑해\n"
          ]
        }
      ]
    },
    {
      "cell_type": "code",
      "source": [
        "print(10 + 5) # 덧셈\n",
        "print(10 - 5) # 뺄셈\n",
        "print(10 * 5) # 곱셈\n",
        "print(10 / 5) # 나눗셈\n",
        "print(10 % 3) # 나머지\n",
        "print(10 // 3) # 몫 연산자\n",
        "print (2 ** 3) # 지수 연산자\n",
        "\n",
        "print(' 10 + 5')\n",
        "\n",
        "print ('10' + '5')"
      ],
      "metadata": {
        "colab": {
          "base_uri": "https://localhost:8080/"
        },
        "id": "12iuOjdL9XzR",
        "outputId": "98dd4452-471a-4c41-823b-14626ad7bc37"
      },
      "execution_count": 22,
      "outputs": [
        {
          "output_type": "stream",
          "name": "stdout",
          "text": [
            "15\n",
            "5\n",
            "50\n",
            "2.0\n",
            "1\n",
            "3\n",
            "8\n",
            " 10 + 5\n",
            "105\n"
          ]
        }
      ]
    },
    {
      "cell_type": "markdown",
      "source": [
        "# **2. 출력 서식 지정하기**"
      ],
      "metadata": {
        "id": "ACDrA7zq-8mY"
      }
    },
    {
      "cell_type": "markdown",
      "source": [
        "1. %d(정수), %f(실수), %s(문자열)을 사용하여 출력 서식을 지정\n",
        "2. 서식을 제외한 문자는 입력한 그대로 출력이 됨\n",
        "3. 서식을 지정해 출력할 데이터가 2개 이상인 경우(소괄호)로 데이터를 묶어야 함"
      ],
      "metadata": {
        "id": "UBQPsHyR-_sl"
      }
    },
    {
      "cell_type": "code",
      "source": [
        "print('숫자 : 100')\n",
        "print('숫자 : %d' %100)\n",
        "print('숫자 : %d' %100.5)"
      ],
      "metadata": {
        "colab": {
          "base_uri": "https://localhost:8080/"
        },
        "id": "JHxXdspv_xPO",
        "outputId": "d2ce7f4a-1734-44ba-e0b5-7f7f7938121c"
      },
      "execution_count": 24,
      "outputs": [
        {
          "output_type": "stream",
          "name": "stdout",
          "text": [
            "숫자 : 100\n",
            "숫자 : 100\n",
            "숫자 : 100\n"
          ]
        }
      ]
    },
    {
      "cell_type": "code",
      "source": [
        "print('실수 : %f' % 100.5)"
      ],
      "metadata": {
        "colab": {
          "base_uri": "https://localhost:8080/"
        },
        "id": "blLcCzayAkRa",
        "outputId": "2ca7d96e-1bfb-4909-8bc9-2af01322d652"
      },
      "execution_count": 26,
      "outputs": [
        {
          "output_type": "stream",
          "name": "stdout",
          "text": [
            "실수 : 100.500000\n"
          ]
        }
      ]
    },
    {
      "cell_type": "code",
      "source": [
        "print('문자열 : %s' % '파이썬')\n",
        "print('문자열 : %s' % 100)"
      ],
      "metadata": {
        "colab": {
          "base_uri": "https://localhost:8080/"
        },
        "id": "A_r05rOyN6d4",
        "outputId": "a5e06a0c-5229-47f6-90c8-c03a24b9531b"
      },
      "execution_count": 38,
      "outputs": [
        {
          "output_type": "stream",
          "name": "stdout",
          "text": [
            "문자열 : 파이썬\n",
            "문자열 : 100\n"
          ]
        }
      ]
    },
    {
      "cell_type": "code",
      "source": [
        "print ('10 + 5 = 15')\n",
        "print('%d + %d = %d' % (10, 5, 10+5))"
      ],
      "metadata": {
        "colab": {
          "base_uri": "https://localhost:8080/"
        },
        "id": "UtzYN6WgOOYY",
        "outputId": "44cf5bc8-351b-4957-b59f-96b4e02864c6"
      },
      "execution_count": 39,
      "outputs": [
        {
          "output_type": "stream",
          "name": "stdout",
          "text": [
            "10 + 5 = 15\n",
            "10 + 5 = 15\n"
          ]
        }
      ]
    },
    {
      "cell_type": "code",
      "source": [
        "print('%d' % 100)"
      ],
      "metadata": {
        "colab": {
          "base_uri": "https://localhost:8080/"
        },
        "id": "J0YSPibJOr_b",
        "outputId": "cd162421-8c28-4318-954c-0179c2517102"
      },
      "execution_count": 40,
      "outputs": [
        {
          "output_type": "stream",
          "name": "stdout",
          "text": [
            "100\n"
          ]
        }
      ]
    },
    {
      "cell_type": "code",
      "source": [
        "print('%5d' % 100)\n",
        "print('%5d' % 10000)\n",
        "print('%5d' % 10000000)\n",
        "print('%05d' % 100)"
      ],
      "metadata": {
        "colab": {
          "base_uri": "https://localhost:8080/"
        },
        "id": "03EAB4fjOyLj",
        "outputId": "e80b3e6a-aba5-4f60-cc9e-19c0a762babc"
      },
      "execution_count": 42,
      "outputs": [
        {
          "output_type": "stream",
          "name": "stdout",
          "text": [
            "  100\n",
            "10000\n",
            "10000000\n",
            "00100\n"
          ]
        }
      ]
    },
    {
      "cell_type": "code",
      "source": [
        "print('%f' % 183.12)\n",
        "print('%6.2f' % 183.1256) #반올림\n",
        "print('%6.2f' % 182.1)"
      ],
      "metadata": {
        "colab": {
          "base_uri": "https://localhost:8080/"
        },
        "id": "VtyfI3CYPnaM",
        "outputId": "e199bf2d-4dd4-450d-b8ab-a43d38b1656b"
      },
      "execution_count": 44,
      "outputs": [
        {
          "output_type": "stream",
          "name": "stdout",
          "text": [
            "183.120000\n",
            "183.13\n",
            "182.10\n"
          ]
        }
      ]
    },
    {
      "cell_type": "code",
      "source": [
        "print('%7s' % 'apple')"
      ],
      "metadata": {
        "colab": {
          "base_uri": "https://localhost:8080/"
        },
        "id": "_AjwDfgPQmDq",
        "outputId": "82841453-4acd-4ab7-ae25-be2c471357ba"
      },
      "execution_count": 46,
      "outputs": [
        {
          "output_type": "stream",
          "name": "stdout",
          "text": [
            "  apple\n"
          ]
        }
      ]
    },
    {
      "cell_type": "code",
      "source": [
        "# 5 /3\n",
        "print('%d / %d = %d' % (5, 3, 5/3))\n",
        "print('%d / %d = %f' % (5, 3, 5/3))"
      ],
      "metadata": {
        "colab": {
          "base_uri": "https://localhost:8080/"
        },
        "id": "99y8Q_vNQt7M",
        "outputId": "29d3194f-f098-42d9-9008-3a8c3157ae7a"
      },
      "execution_count": 48,
      "outputs": [
        {
          "output_type": "stream",
          "name": "stdout",
          "text": [
            "5 / 3 = 1\n",
            "5 / 3 = 1.666667\n"
          ]
        }
      ]
    },
    {
      "cell_type": "markdown",
      "source": [
        "#3. format 함수와 출력 인덱스 **사용**"
      ],
      "metadata": {
        "id": "SGJ0I_KzRVWz"
      }
    },
    {
      "cell_type": "code",
      "source": [
        "#인덱스 : 0부터 순서대로 진행되는 정수\n",
        "print('{0}, {1}'.format('김나은', '짱이야'))"
      ],
      "metadata": {
        "colab": {
          "base_uri": "https://localhost:8080/"
        },
        "id": "6X8Rd1HcRafj",
        "outputId": "10f0f085-284b-4a69-b6c1-e293581f658b"
      },
      "execution_count": 50,
      "outputs": [
        {
          "output_type": "stream",
          "name": "stdout",
          "text": [
            "김나은, 짱이야\n"
          ]
        }
      ]
    },
    {
      "cell_type": "code",
      "source": [
        "print('{0:5s}님은 {1}살 입니다.'.format('김나은',24))"
      ],
      "metadata": {
        "colab": {
          "base_uri": "https://localhost:8080/"
        },
        "id": "W7euRCa_SUvd",
        "outputId": "40b6ddf0-52aa-4dfb-aa10-7ad057246834"
      },
      "execution_count": 53,
      "outputs": [
        {
          "output_type": "stream",
          "name": "stdout",
          "text": [
            "김나은  님은 24살 입니다.\n"
          ]
        }
      ]
    }
  ]
}