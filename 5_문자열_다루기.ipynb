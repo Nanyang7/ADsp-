{
  "nbformat": 4,
  "nbformat_minor": 0,
  "metadata": {
    "colab": {
      "provenance": [],
      "authorship_tag": "ABX9TyOsBVIDfgk97eK79cGTv1k7",
      "include_colab_link": true
    },
    "kernelspec": {
      "name": "python3",
      "display_name": "Python 3"
    },
    "language_info": {
      "name": "python"
    }
  },
  "cells": [
    {
      "cell_type": "markdown",
      "metadata": {
        "id": "view-in-github",
        "colab_type": "text"
      },
      "source": [
        "<a href=\"https://colab.research.google.com/github/Nanyang7/ADsp-/blob/main/5_%EB%AC%B8%EC%9E%90%EC%97%B4_%EB%8B%A4%EB%A3%A8%EA%B8%B0.ipynb\" target=\"_parent\"><img src=\"https://colab.research.google.com/assets/colab-badge.svg\" alt=\"Open In Colab\"/></a>"
      ]
    },
    {
      "cell_type": "code",
      "execution_count": 1,
      "metadata": {
        "colab": {
          "base_uri": "https://localhost:8080/"
        },
        "id": "A_xRKVpqpzii",
        "outputId": "43938c79-6836-47f8-87cb-9e351daa9acc"
      },
      "outputs": [
        {
          "output_type": "stream",
          "name": "stdout",
          "text": [
            "<class 'str'>\n",
            "오늘은 파이썬... 재밌겠다.\n",
            "오늘 제 생각보다 너무 날씨가 \n",
            "더워서 .. 너무 힘드고 지치네요.. ㅠㅠ\n"
          ]
        }
      ],
      "source": [
        "str1 = '오늘은 파이썬 3일차 강의입니다.'\n",
        "print(type(str1))\n",
        "\n",
        "str2= \"오늘은 파이썬... 재밌겠다.\"\n",
        "print(str2)\n",
        "\n",
        "str3='''오늘 제 생각보다 너무 날씨가\n",
        "더워서 .. 너무 힘드고 지치네요.. ㅠㅠ'''\n",
        "print(str3)\n"
      ]
    },
    {
      "cell_type": "code",
      "source": [
        "str4 = \"나는 너에게 '사랑해' 라고 말했다.\"\n",
        "print(str4)"
      ],
      "metadata": {
        "colab": {
          "base_uri": "https://localhost:8080/"
        },
        "id": "Gbf3X2irMP7p",
        "outputId": "2095164f-4405-4549-93ca-26c9042a4e81"
      },
      "execution_count": 2,
      "outputs": [
        {
          "output_type": "stream",
          "name": "stdout",
          "text": [
            "나는 너에게 '사랑해' 라고 말했다.\n"
          ]
        }
      ]
    },
    {
      "cell_type": "code",
      "source": [
        "str5 = '넌 나에게 \"나도\"라고 말했다.'\n",
        "print(str5)"
      ],
      "metadata": {
        "colab": {
          "base_uri": "https://localhost:8080/"
        },
        "id": "l24Xh7xNM_Rf",
        "outputId": "dcabd797-f5f0-44f6-a595-839564401efb"
      },
      "execution_count": 3,
      "outputs": [
        {
          "output_type": "stream",
          "name": "stdout",
          "text": [
            "넌 나에게 \"나도\"라고 말했다.\n"
          ]
        }
      ]
    },
    {
      "cell_type": "code",
      "source": [
        "str6 = '난 너의 입에서 \\'너 밖에 없어\\' 라고 듣길 바라.'\n",
        "print(str6)"
      ],
      "metadata": {
        "colab": {
          "base_uri": "https://localhost:8080/"
        },
        "id": "6rXuBpdRNao9",
        "outputId": "961ce295-8b4b-4317-fda9-f3641d3f1425"
      },
      "execution_count": 4,
      "outputs": [
        {
          "output_type": "stream",
          "name": "stdout",
          "text": [
            "난 너의 입에서 '너 밖에 없어' 라고 듣길 바라.\n"
          ]
        }
      ]
    },
    {
      "cell_type": "code",
      "source": [
        "#이스케이프 문자(확장 특수 출력 문자)\n",
        "print('여기서 줄바꿈 해줘 !\\n응 했어!')\n",
        "print('여기서 일정한 간격 줘봐!\\t응 했어!')"
      ],
      "metadata": {
        "colab": {
          "base_uri": "https://localhost:8080/"
        },
        "id": "9P6uRHXqObF2",
        "outputId": "3cfedf99-109b-49b5-de6d-2bd35a4b70c9"
      },
      "execution_count": 5,
      "outputs": [
        {
          "output_type": "stream",
          "name": "stdout",
          "text": [
            "여기서 줄바꿈 해줘 !\n",
            "응 했어!\n",
            "여기서 일정한 간격 줘봐!\t응 했어!\n"
          ]
        }
      ]
    },
    {
      "cell_type": "markdown",
      "source": [
        "# **1.문자열 인덱싱**"
      ],
      "metadata": {
        "id": "5YT7MkhWRcX_"
      }
    },
    {
      "cell_type": "markdown",
      "source": [
        "- 문자열에 번호를 매겨 특정 문자를 찾을 수 있는 기능"
      ],
      "metadata": {
        "id": "oLDArOoGRl-J"
      }
    },
    {
      "cell_type": "code",
      "source": [
        "str = '문자열에 번호를 매겨 특정 문자를 찾을 수 있는 기능'\n",
        "print(str)"
      ],
      "metadata": {
        "colab": {
          "base_uri": "https://localhost:8080/"
        },
        "id": "P65EPBU9TWSB",
        "outputId": "f599b6e5-55a4-402b-d1ca-4ff24c566bd5"
      },
      "execution_count": 6,
      "outputs": [
        {
          "output_type": "stream",
          "name": "stdout",
          "text": [
            "문자열에 번호를 매겨 특정 문자를 찾을 수 있는 기능\n"
          ]
        }
      ]
    },
    {
      "cell_type": "code",
      "source": [
        "print(str[0])\n",
        "print(str[1])\n",
        "print(str[4])\n",
        "print(str[-1]) #마지막 문자\n",
        "print(str[-2])"
      ],
      "metadata": {
        "colab": {
          "base_uri": "https://localhost:8080/"
        },
        "id": "SL5cBfr0T0cB",
        "outputId": "5898966b-1520-4a62-fd6f-ee5f0861b070"
      },
      "execution_count": 9,
      "outputs": [
        {
          "output_type": "stream",
          "name": "stdout",
          "text": [
            "문\n",
            "자\n",
            " \n",
            "능\n",
            "기\n"
          ]
        }
      ]
    },
    {
      "cell_type": "markdown",
      "source": [
        "# **2. 문자열 슬라이싱**"
      ],
      "metadata": {
        "id": "HlvFVF9RUZi5"
      }
    },
    {
      "cell_type": "markdown",
      "source": [
        "-문자열에서 원하는 부분을 추출하는 기능"
      ],
      "metadata": {
        "id": "XptQdURPUhuy"
      }
    },
    {
      "cell_type": "code",
      "source": [
        "str = '문자열에서 원하는 부분을 추출하는 기능'\n",
        "print(str)"
      ],
      "metadata": {
        "colab": {
          "base_uri": "https://localhost:8080/"
        },
        "id": "nzxaxO2EUk-k",
        "outputId": "6e582103-a2b6-40cf-f63f-b239743cc5b9"
      },
      "execution_count": 10,
      "outputs": [
        {
          "output_type": "stream",
          "name": "stdout",
          "text": [
            "문자열에서 원하는 부분을 추출하는 기능\n"
          ]
        }
      ]
    },
    {
      "cell_type": "code",
      "source": [
        "print(str[0:5]) #인덱스 0부터 5이전까지의 문자열\n",
        "print(str[6:13])\n",
        "print(str[:13]) #처음부터 13 직전까지\n",
        "print(str[6:]) #6부터 끝까지"
      ],
      "metadata": {
        "colab": {
          "base_uri": "https://localhost:8080/"
        },
        "id": "IVms4gdiUql_",
        "outputId": "fe7ac99f-5162-421a-9742-bdfa6899fffb"
      },
      "execution_count": 13,
      "outputs": [
        {
          "output_type": "stream",
          "name": "stdout",
          "text": [
            "문자열에서\n",
            "원하는 부분을\n",
            "문자열에서 원하는 부분을\n",
            "원하는 부분을 추출하는 기능\n"
          ]
        }
      ]
    },
    {
      "cell_type": "markdown",
      "source": [
        "# **3.문자열 함수**"
      ],
      "metadata": {
        "id": "QkhTyB2ZVnqb"
      }
    },
    {
      "cell_type": "markdown",
      "source": [
        "-문자열과 관련된 여러가지 기능(함수)"
      ],
      "metadata": {
        "id": "hnzpSbzoVprd"
      }
    },
    {
      "cell_type": "code",
      "source": [
        "str = '문자열 함수는 문자열과 관련된 여러가지 기능'"
      ],
      "metadata": {
        "id": "S8aYV7jDVs9V"
      },
      "execution_count": 14,
      "outputs": []
    },
    {
      "cell_type": "code",
      "source": [
        "#count() : 문자열에서 매개변수로 전달된 문자열의 출현 횟수를 반환\n",
        "print(str.count('문'))\n",
        "print(str.count('관련된'))"
      ],
      "metadata": {
        "colab": {
          "base_uri": "https://localhost:8080/"
        },
        "id": "SjAY5QeBV0p7",
        "outputId": "00557e75-6e5e-46f6-8032-8c1fc713817f"
      },
      "execution_count": 16,
      "outputs": [
        {
          "output_type": "stream",
          "name": "stdout",
          "text": [
            "2\n",
            "1\n"
          ]
        }
      ]
    },
    {
      "cell_type": "code",
      "source": [
        "#find() : 매개변수로 전달된 문자열이 처음 나오는 위치를 인덱스로 반환\n",
        "print(str.find('문'))\n",
        "print(str.find('여러'))\n",
        "\n",
        "print(str.find('문자')) # 쓰는 목적이 다르다."
      ],
      "metadata": {
        "colab": {
          "base_uri": "https://localhost:8080/"
        },
        "id": "OfArHNqeWJsU",
        "outputId": "389e7c47-f15d-4ffe-f805-630046ba7690"
      },
      "execution_count": 19,
      "outputs": [
        {
          "output_type": "stream",
          "name": "stdout",
          "text": [
            "0\n",
            "17\n",
            "0\n"
          ]
        }
      ]
    },
    {
      "cell_type": "code",
      "source": [
        "#index() : 매개변수로 전달된 문자열이 처음 나오는 위치를 인덱스로 반환\n",
        "print(str.index('자'))\n",
        "print(str.index('문')) #없으면 에러 ValueError : substring not found"
      ],
      "metadata": {
        "colab": {
          "base_uri": "https://localhost:8080/"
        },
        "id": "6OtFGpeVWtQM",
        "outputId": "f65546a2-36fe-4c46-9562-7bc559197458"
      },
      "execution_count": 21,
      "outputs": [
        {
          "output_type": "stream",
          "name": "stdout",
          "text": [
            "1\n",
            "0\n"
          ]
        }
      ]
    },
    {
      "cell_type": "code",
      "source": [
        "#replace() : 특정 문자열을 치환\n",
        "print(str)\n",
        "print(str.replace('기능', '함수').count('함수'))"
      ],
      "metadata": {
        "colab": {
          "base_uri": "https://localhost:8080/"
        },
        "id": "MDW99SIhXwTv",
        "outputId": "64813510-2741-40c4-b47a-f261873b6ec2"
      },
      "execution_count": 23,
      "outputs": [
        {
          "output_type": "stream",
          "name": "stdout",
          "text": [
            "문자열 함수는 문자열과 관련된 여러가지 기능\n",
            "2\n"
          ]
        }
      ]
    },
    {
      "cell_type": "code",
      "source": [
        "#upper() : 문자열을 모두 대문자로 변환\n",
        "#lower() : 문자열을 모두 소문자로 변환\n",
        "str = '문자열 function는 문자열과 관련된 여러가지 FUNCTION'\n",
        "\n",
        "print(str.upper())\n",
        "print(str.lower())"
      ],
      "metadata": {
        "colab": {
          "base_uri": "https://localhost:8080/"
        },
        "id": "sBYS8RZSYICd",
        "outputId": "42563975-8df4-46c5-d9fd-710c402f79d5"
      },
      "execution_count": 24,
      "outputs": [
        {
          "output_type": "stream",
          "name": "stdout",
          "text": [
            "문자열 FUNCTION는 문자열과 관련된 여러가지 FUNCTION\n",
            "문자열 function는 문자열과 관련된 여러가지 function\n"
          ]
        }
      ]
    },
    {
      "cell_type": "code",
      "source": [
        "# lstrip() : 문자열의 왼쪽 공백을 제거\n",
        "# restrip() : 문자열의 오른쪽 공백을 제거\n",
        "# strip() : 문자열의 양쪽 공백을 제거\n",
        "str = '                 hello                 python'\n",
        "print(str)\n",
        "print(str.lstrip())\n",
        "print(str.rstrip())\n",
        "print(str.replace(' ', ''))"
      ],
      "metadata": {
        "colab": {
          "base_uri": "https://localhost:8080/"
        },
        "id": "Rubhem28YYva",
        "outputId": "638a8120-8151-4c80-b4ee-5e3e4a1c5eb9"
      },
      "execution_count": 26,
      "outputs": [
        {
          "output_type": "stream",
          "name": "stdout",
          "text": [
            "                 hello                 python\n",
            "hello                 python\n",
            "                 hello                 python\n",
            "hellopython\n"
          ]
        }
      ]
    },
    {
      "cell_type": "code",
      "source": [
        "#join() : 문자열에 특정 문자열을 삽입\n",
        "str = '너의모든순간 '\n",
        "print(' '.join(str))"
      ],
      "metadata": {
        "colab": {
          "base_uri": "https://localhost:8080/"
        },
        "id": "8rTrzrxDZ2T8",
        "outputId": "e35881bc-7ebb-4350-d946-34fc8267942d"
      },
      "execution_count": 28,
      "outputs": [
        {
          "output_type": "stream",
          "name": "stdout",
          "text": [
            "너 의 모 든 순 간  \n"
          ]
        }
      ]
    },
    {
      "cell_type": "markdown",
      "source": [],
      "metadata": {
        "id": "nXVt5_85ZrNw"
      }
    }
  ]
}