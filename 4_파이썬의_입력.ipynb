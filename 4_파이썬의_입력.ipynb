{
  "nbformat": 4,
  "nbformat_minor": 0,
  "metadata": {
    "colab": {
      "provenance": [],
      "authorship_tag": "ABX9TyM3AQELhdruZoEr91c+hBmY",
      "include_colab_link": true
    },
    "kernelspec": {
      "name": "python3",
      "display_name": "Python 3"
    },
    "language_info": {
      "name": "python"
    }
  },
  "cells": [
    {
      "cell_type": "markdown",
      "metadata": {
        "id": "view-in-github",
        "colab_type": "text"
      },
      "source": [
        "<a href=\"https://colab.research.google.com/github/Nanyang7/ADsp-/blob/main/4_%ED%8C%8C%EC%9D%B4%EC%8D%AC%EC%9D%98_%EC%9E%85%EB%A0%A5.ipynb\" target=\"_parent\"><img src=\"https://colab.research.google.com/assets/colab-badge.svg\" alt=\"Open In Colab\"/></a>"
      ]
    },
    {
      "cell_type": "markdown",
      "source": [
        "# **1.input 함수**"
      ],
      "metadata": {
        "id": "S216dd4pg3h8"
      }
    },
    {
      "cell_type": "markdown",
      "source": [
        "- 사용자에게 데이터를 입력 받을 수 있는 함수\n",
        "- 데이터를 문자형으로 입력"
      ],
      "metadata": {
        "id": "8Ag0XAA8g8qz"
      }
    },
    {
      "cell_type": "code",
      "source": [
        "name = input()\n",
        "print(name)"
      ],
      "metadata": {
        "colab": {
          "base_uri": "https://localhost:8080/"
        },
        "id": "X6EFgCGahLKo",
        "outputId": "07f54028-a182-44ef-d6e4-cfb3f4c3499f"
      },
      "execution_count": 4,
      "outputs": [
        {
          "output_type": "stream",
          "name": "stdout",
          "text": [
            "김나은\n",
            "김나은\n"
          ]
        }
      ]
    },
    {
      "cell_type": "code",
      "source": [
        "name = input('이름을 입력해보아요 : ')\n",
        "print('%s님 ! 이름이 참 멋지시네요 !' % name)"
      ],
      "metadata": {
        "colab": {
          "base_uri": "https://localhost:8080/"
        },
        "id": "8NS89L41hgX7",
        "outputId": "ae1dd17f-d6ee-40c9-e33d-2c616337942a"
      },
      "execution_count": 6,
      "outputs": [
        {
          "output_type": "stream",
          "name": "stdout",
          "text": [
            "이름을 입력해보아요 : 김나은\n",
            "김나은님 ! 이름이 참 멋지시네요 !\n"
          ]
        }
      ]
    },
    {
      "cell_type": "code",
      "source": [
        "#split() : 매개변수로 전달된 문자를 기준으로 데이터를 나눠서 저장\n",
        "name, age, height = input('이름, 나이, 키를 스페이스 바를 기준으로 나눠서 입력하세요 : ').split(' ')\n",
        "print('{0}님의 나이는 {1}살이며, 키는 {2}cm 입니다.' .format(name, age, height))"
      ],
      "metadata": {
        "colab": {
          "base_uri": "https://localhost:8080/"
        },
        "id": "rAPU5DuuicYd",
        "outputId": "479e7f69-cebe-41f9-de32-b5e4d44c04e8"
      },
      "execution_count": 8,
      "outputs": [
        {
          "output_type": "stream",
          "name": "stdout",
          "text": [
            "이름, 나이, 키를 스페이스 바를 기준으로 나눠서 입력하세요 : 김나은 24 187\n",
            "김나은님의 나이는 24살이며, 키는 187cm 입니다.\n"
          ]
        }
      ]
    },
    {
      "cell_type": "markdown",
      "source": [
        "### 문제\n",
        "- 국어, 영어, 수학 점수를 입력받아 총점, 평균을 구하는 프로그램을 작성해보자"
      ],
      "metadata": {
        "id": "BMiDBVuxjacI"
      }
    },
    {
      "cell_type": "code",
      "source": [
        "kor, eng, math = input('국어, 영어, 수학 점수를 스페이스 바를 기준으로 나눠서 입력하세요 : ').split(' ')\n",
        "\n",
        "\n",
        "total = int(kor) + int(eng) + int(math)\n",
        "avg = total / 3\n",
        "#순서대로 인덱스 번호를 넣고 싶으면 굳이 적지 않아도 된다\n",
        "print ('총점은 {0}이고, 평균은 {1}입니다.' .format(total,avg))"
      ],
      "metadata": {
        "colab": {
          "base_uri": "https://localhost:8080/"
        },
        "id": "Sg-IhKtskN-E",
        "outputId": "fc5fea85-b17d-4bc8-bd96-5017af83a483"
      },
      "execution_count": 12,
      "outputs": [
        {
          "output_type": "stream",
          "name": "stdout",
          "text": [
            "국어, 영어, 수학 점수를 스페이스 바를 기준으로 나눠서 입력하세요 : 60 70 70\n",
            "총점은 200이고, 평균은 66.66666666666667입니다.\n"
          ]
        }
      ]
    },
    {
      "cell_type": "code",
      "source": [
        "#int() : 문자열을 숫자(정수)타입으로 변환\n",
        "num1 = '100'\n",
        "num2 = '50'\n",
        "\n",
        "print(int(num1) + int(num2))\n",
        "print(int(num1 + num2 ))"
      ],
      "metadata": {
        "colab": {
          "base_uri": "https://localhost:8080/"
        },
        "id": "IeFqS3OXkpLN",
        "outputId": "06ccbd5d-d342-4775-9cf9-88be4439c970"
      },
      "execution_count": 9,
      "outputs": [
        {
          "output_type": "stream",
          "name": "stdout",
          "text": [
            "150\n",
            "10050\n"
          ]
        }
      ]
    },
    {
      "cell_type": "markdown",
      "source": [
        "# **2. map 함수**"
      ],
      "metadata": {
        "id": "Rix1pDjGoe4B"
      }
    },
    {
      "cell_type": "markdown",
      "source": [
        "- 미리 타입을 지정하여 입력 받는 함수"
      ],
      "metadata": {
        "id": "wpwGXkYToiq4"
      }
    },
    {
      "cell_type": "code",
      "source": [
        "kor, eng, math = map(int, input('국어, 영어, 수학점수를 입력하세요. : ').split(' '))\n",
        "print('총점 : ', kor + eng + math)"
      ],
      "metadata": {
        "colab": {
          "base_uri": "https://localhost:8080/"
        },
        "id": "uHjFwhMlomJx",
        "outputId": "7a3ffcd4-e2e6-4b64-b19b-9297e128f3a0"
      },
      "execution_count": 15,
      "outputs": [
        {
          "output_type": "stream",
          "name": "stdout",
          "text": [
            "국어, 영어, 수학점수를 입력하세요. : 50 60 70\n",
            "총점 :  180\n"
          ]
        }
      ]
    },
    {
      "cell_type": "code",
      "source": [],
      "metadata": {
        "id": "S2vwDtp0psFr"
      },
      "execution_count": null,
      "outputs": []
    }
  ]
}