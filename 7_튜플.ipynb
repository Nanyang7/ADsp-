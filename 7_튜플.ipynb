{
  "nbformat": 4,
  "nbformat_minor": 0,
  "metadata": {
    "colab": {
      "provenance": [],
      "authorship_tag": "ABX9TyP3L6J8rG7dW8k/qhloLMPI",
      "include_colab_link": true
    },
    "kernelspec": {
      "name": "python3",
      "display_name": "Python 3"
    },
    "language_info": {
      "name": "python"
    }
  },
  "cells": [
    {
      "cell_type": "markdown",
      "metadata": {
        "id": "view-in-github",
        "colab_type": "text"
      },
      "source": [
        "<a href=\"https://colab.research.google.com/github/Nanyang7/ADsp-/blob/main/7_%ED%8A%9C%ED%94%8C.ipynb\" target=\"_parent\"><img src=\"https://colab.research.google.com/assets/colab-badge.svg\" alt=\"Open In Colab\"/></a>"
      ]
    },
    {
      "cell_type": "markdown",
      "source": [
        "# **1. 튜플(Tuple)**\n"
      ],
      "metadata": {
        "id": "gsMiE3NquSMn"
      }
    },
    {
      "cell_type": "markdown",
      "source": [
        "- 리스트와 비슷하지만 리스트는[]로 자료를 감싸고, 튜플은 ()로 감쌈"
      ],
      "metadata": {
        "id": "n2m6r_PMvdsY"
      }
    },
    {
      "cell_type": "code",
      "source": [
        "tu1 = ()\n",
        "print(tu1)\n",
        "print(type(tu1))\n",
        "\n",
        "tu2 = (1, 3, 5, 7)\n",
        "print(tu2)\n",
        "\n",
        "tu3 = 1,3, 5, 7 #소괄호 생략하다.\n",
        "print(tu3)\n",
        "print(type(tu3))\n",
        "\n",
        "tu4 = ('apple', 'banana', ('💀','☠️','👽'))\n",
        "print(tu4)\n",
        "print(type(tu4))\n",
        "\n",
        "tu5 = ('apple', 'banana', ['💀','☠️','👽'],10)\n",
        "tu5[2].append(10) #리스트이기에 추가 가능\n",
        "# tu5[2][0] = '🐔' # 리스트이기에 수정 가능\n",
        "print(tu5)\n",
        "print(type(tu5))"
      ],
      "metadata": {
        "id": "t-CLdaAMvkWA"
      },
      "execution_count": null,
      "outputs": []
    },
    {
      "cell_type": "markdown",
      "source": [
        "## 2. 튜플의 수정 및 삭제"
      ],
      "metadata": {
        "id": "7rkUK7Tgwvj4"
      }
    },
    {
      "cell_type": "code",
      "source": [
        "tu6 = (1, 2, 'apple', 'banana')\n",
        "print(tu6)\n",
        "\n",
        "# tu6[3] = 'orange' # TypeEror: 'tuple' object does not support item assignment\n",
        "# del tu6[3] # TypeError : 'tuple' object doesn't support item deletion\n",
        "\n",
        "del tu6 #덩어리 삭제 가능\n",
        "print(tu6)"
      ],
      "metadata": {
        "id": "1Bh6dykqxFJ2"
      },
      "execution_count": null,
      "outputs": []
    },
    {
      "cell_type": "markdown",
      "source": [
        "# **3. 튜플의 인덱싱과 슬라이싱 연산**"
      ],
      "metadata": {
        "id": "tZ2kbQtPymIq"
      }
    },
    {
      "cell_type": "code",
      "source": [
        "tu7= (1, 2, 'apple', 'banana')\n",
        "\n",
        "#인덱싱\n",
        "print(tu7[0])\n",
        "print(tu7[-1])\n",
        "\n",
        "#슬라이싱\n",
        "print(tu7[1:])\n",
        "print(tu7[1:3])\n",
        "\n",
        "#덧셈(연결)\n",
        "tu8 = (30,40)\n",
        "print(tu7 + tu8)\n",
        "\n",
        "# 곱셈(반복)\n",
        "print(tu7 * 3)\n",
        "\n",
        "#요소의 갯수\n",
        "print(len(tu7))"
      ],
      "metadata": {
        "colab": {
          "base_uri": "https://localhost:8080/"
        },
        "id": "f6bRZCLqyqS6",
        "outputId": "c0f3496c-07b1-4b76-eee2-96e16c7e8bb0"
      },
      "execution_count": 5,
      "outputs": [
        {
          "output_type": "stream",
          "name": "stdout",
          "text": [
            "1\n",
            "banana\n",
            "(2, 'apple', 'banana')\n",
            "(2, 'apple')\n",
            "(1, 2, 'apple', 'banana', 30, 40)\n",
            "(1, 2, 'apple', 'banana', 1, 2, 'apple', 'banana', 1, 2, 'apple', 'banana')\n",
            "4\n"
          ]
        }
      ]
    },
    {
      "cell_type": "code",
      "source": [
        "tu9 = (1, 3, 2, 0)\n",
        "print(sorted(tu9)) #튜플은 sort() 지원하지 않음"
      ],
      "metadata": {
        "colab": {
          "base_uri": "https://localhost:8080/"
        },
        "id": "o_8ugErz-hBj",
        "outputId": "9c4fd29d-6ad6-4b6a-a748-a53f9065a4a2"
      },
      "execution_count": 6,
      "outputs": [
        {
          "output_type": "stream",
          "name": "stdout",
          "text": [
            "[0, 1, 2, 3]\n"
          ]
        }
      ]
    }
  ]
}