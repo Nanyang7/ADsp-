{
  "nbformat": 4,
  "nbformat_minor": 0,
  "metadata": {
    "colab": {
      "provenance": [],
      "authorship_tag": "ABX9TyOjlq+GyOKKatHjwtbP8k/x",
      "include_colab_link": true
    },
    "kernelspec": {
      "name": "python3",
      "display_name": "Python 3"
    },
    "language_info": {
      "name": "python"
    }
  },
  "cells": [
    {
      "cell_type": "markdown",
      "metadata": {
        "id": "view-in-github",
        "colab_type": "text"
      },
      "source": [
        "<a href=\"https://colab.research.google.com/github/Nanyang7/ADsp-/blob/main/3_%EB%B3%80%EC%88%98.ipynb\" target=\"_parent\"><img src=\"https://colab.research.google.com/assets/colab-badge.svg\" alt=\"Open In Colab\"/></a>"
      ]
    },
    {
      "cell_type": "markdown",
      "source": [
        "# **1.변수**"
      ],
      "metadata": {
        "id": "lj5a91qfVw43"
      }
    },
    {
      "cell_type": "markdown",
      "source": [
        "- 변수란 처리할 데이터를 저장시키는 기억장소"
      ],
      "metadata": {
        "id": "bagNiSp5V5rv"
      }
    },
    {
      "cell_type": "code",
      "source": [
        "name ='김나은'\n",
        "age = 24\n",
        "\n",
        "print(name)\n",
        "print(age)\n",
        "\n",
        "name = '박수빈'\n",
        "print(name)"
      ],
      "metadata": {
        "colab": {
          "base_uri": "https://localhost:8080/"
        },
        "id": "gjAxkeIoV8os",
        "outputId": "8767af26-2052-4481-c30d-f4ff4bb5ff03"
      },
      "execution_count": 2,
      "outputs": [
        {
          "output_type": "stream",
          "name": "stdout",
          "text": [
            "김나은\n",
            "24\n",
            "박수빈\n"
          ]
        }
      ]
    },
    {
      "cell_type": "markdown",
      "source": [
        "# **2. 변수의 이름을 작성하는 방법**"
      ],
      "metadata": {
        "id": "2ibXTifnXiAG"
      }
    },
    {
      "cell_type": "markdown",
      "source": [
        "- 값을 나타내는 핵심단어\n",
        "- 반드시 문자로 시작하고 예약어는 사용할 수 없음\n",
        "- 영문자, 숫자, 특수문자(_)로 사용하여 대소문자를 구별"
      ],
      "metadata": {
        "id": "Pd6tS-08XmBR"
      }
    },
    {
      "cell_type": "code",
      "source": [
        "num1 = 10\n",
        "num2 = 3\n",
        "\n",
        "print('%d / %d = %06.2f' % (num1, num2, num1/num2))"
      ],
      "metadata": {
        "colab": {
          "base_uri": "https://localhost:8080/"
        },
        "id": "tXyyXxLvYWnL",
        "outputId": "eb831726-a108-4bb9-fadd-cec8220f91da"
      },
      "execution_count": 3,
      "outputs": [
        {
          "output_type": "stream",
          "name": "stdout",
          "text": [
            "10 / 3 = 003.33\n"
          ]
        }
      ]
    },
    {
      "cell_type": "markdown",
      "source": [
        "# **3. 변수의 데이터 타입**"
      ],
      "metadata": {
        "id": "7euITxnXc74Z"
      }
    },
    {
      "cell_type": "markdown",
      "source": [
        "- 데이터 타입(자료형) : 자료가 저장되는 형태를 의미\n",
        "-"
      ],
      "metadata": {
        "id": "qPshPQNuc-0D"
      }
    },
    {
      "cell_type": "code",
      "source": [
        "name = '김나은'\n",
        "age = 24\n",
        "weight = 55.5\n",
        "isLover = False\n",
        "\n",
        "#type() : 변수의 데이터 타입을 반환해주는 함수\n",
        "print(type(name)) #<class 'str'>\n",
        "print(type(age)) #<class 'int'>\n",
        "print(type(weight)) #<class 'float'>\n",
        "print(type(isLover))"
      ],
      "metadata": {
        "colab": {
          "base_uri": "https://localhost:8080/"
        },
        "id": "_lZskVBYdF5j",
        "outputId": "6b6037a7-ccd4-4330-dd15-b42dc6362006"
      },
      "execution_count": 4,
      "outputs": [
        {
          "output_type": "stream",
          "name": "stdout",
          "text": [
            "<class 'str'>\n",
            "<class 'int'>\n",
            "<class 'float'>\n",
            "<class 'bool'>\n"
          ]
        }
      ]
    },
    {
      "cell_type": "code",
      "source": [
        "print(isLover)"
      ],
      "metadata": {
        "colab": {
          "base_uri": "https://localhost:8080/"
        },
        "id": "YMbJTMd2e8V3",
        "outputId": "79b7aeb1-1fe6-4213-fb78-026b3acd2be8"
      },
      "execution_count": 5,
      "outputs": [
        {
          "output_type": "stream",
          "name": "stdout",
          "text": [
            "False\n"
          ]
        }
      ]
    },
    {
      "cell_type": "code",
      "source": [
        "#변수를 삭제\n",
        "del isLover"
      ],
      "metadata": {
        "id": "Vp9Y1FEkfhOe"
      },
      "execution_count": 6,
      "outputs": []
    },
    {
      "cell_type": "code",
      "source": [],
      "metadata": {
        "id": "ZzVskV5Hgcvc"
      },
      "execution_count": null,
      "outputs": []
    }
  ]
}